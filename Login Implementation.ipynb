{
 "cells": [
  {
   "cell_type": "markdown",
   "id": "e4d83b76",
   "metadata": {},
   "source": [
    "# Import Libraries"
   ]
  },
  {
   "cell_type": "code",
   "execution_count": 1,
   "id": "6bf18268",
   "metadata": {},
   "outputs": [],
   "source": [
    "import re\n",
    "import hashlib\n",
    "import pandas as pd ## TODO: implement SQL, use csv for templating"
   ]
  },
  {
   "cell_type": "markdown",
   "id": "7de01c4a",
   "metadata": {},
   "source": [
    "# Functions"
   ]
  },
  {
   "cell_type": "markdown",
   "id": "ea5d98ab",
   "metadata": {},
   "source": [
    "# Raw username and password input function"
   ]
  },
  {
   "cell_type": "code",
   "execution_count": 2,
   "id": "ea476b4a",
   "metadata": {},
   "outputs": [],
   "source": [
    "def raw_input(): # Function called from main()\n",
    "    \n",
    "    # Input username\n",
    "    raw_un = input(\"Username: \") ## TODO: should also check for illegality\n",
    "    \n",
    "    # Input password\n",
    "    tries = 0\n",
    "    illegal = True\n",
    "    \n",
    "    while illegal == True:\n",
    "        raw_pw = input(\"Password: \")\n",
    "        illegal = check_illegal(raw_pw)\n",
    "        \n",
    "        if tries == 3:\n",
    "            print(\"Three tries used. Please try again later\")\n",
    "            break\n",
    "        \n",
    "        tries += 1 \n",
    "        \n",
    "    return raw_un, raw_pw # Legal inputs returned to main()"
   ]
  },
  {
   "cell_type": "markdown",
   "id": "96b2a65d",
   "metadata": {},
   "source": [
    "## Check for illegal password function"
   ]
  },
  {
   "cell_type": "code",
   "execution_count": 3,
   "id": "8e7d33a6",
   "metadata": {},
   "outputs": [],
   "source": [
    "def check_illegal(raw_pw): # Function called from and returned to raw_input() function.\n",
    "    \n",
    "    # Check for empty string\n",
    "    if not raw_pw:\n",
    "        print(\"Password field cannot be empty\")\n",
    "        return True\n",
    "    \n",
    "    # Check for illegal characters\n",
    "    if bool(re.match('^(?=.*[<>/{}[\\]~`]$)', raw_pw)): ## TODO\n",
    "        print(\"Password contains illegal characters, Please try again\")\n",
    "        return True\n",
    "    \n",
    "    # Check password length\n",
    "    if len(raw_pw) <= 7:\n",
    "        print(\"Password length must be more than 8 characters\")\n",
    "        return True\n",
    "    \n",
    "    # Checks for at least 1 number, 1 alpha(both upper and lower)\n",
    "    if not bool(re.match('^(?=.*[0-9]$)(?=.*[a-zA-Z])', raw_pw)): ## TODO: add special characters\n",
    "        print(\"Password must be mixed upper and lower characters\")\n",
    "        return True\n",
    "    \n",
    "    else:\n",
    "        # Input is legal\n",
    "        return False"
   ]
  },
  {
   "cell_type": "markdown",
   "id": "6ece7f80",
   "metadata": {},
   "source": [
    "## Hash legal password"
   ]
  },
  {
   "cell_type": "code",
   "execution_count": 4,
   "id": "d3be5ef7",
   "metadata": {},
   "outputs": [],
   "source": [
    "def hash_legal(legal_input): ## TODO: link to raw_input()\n",
    "    \n",
    "    # Hash input using SHA256\n",
    "    return hashlib.sha256(legal_input.encode())"
   ]
  },
  {
   "cell_type": "markdown",
   "id": "04e64f5f",
   "metadata": {},
   "source": [
    "## Open database"
   ]
  },
  {
   "cell_type": "code",
   "execution_count": 5,
   "id": "79d03efb",
   "metadata": {},
   "outputs": [],
   "source": [
    "def open_db(): ## TODO: SQL??\n",
    "    return pd.read_csv(\"login_db.csv\")"
   ]
  },
  {
   "cell_type": "markdown",
   "id": "f8d235f4",
   "metadata": {},
   "source": [
    "## Existing login function"
   ]
  },
  {
   "cell_type": "code",
   "execution_count": 6,
   "id": "a1b203dd",
   "metadata": {},
   "outputs": [],
   "source": [
    "def login(legal_un, hash_pw):\n",
    "    \n",
    "    # Open database\n",
    "    login_db = open_db()\n",
    "    \n",
    "    # Check if username and password hash exist in database\n",
    "    if login_db.loc[login_db['username'] == legal_un] and login_db.loc[login_db['hash'] == hash_pw]:\n",
    "        ## TODO: return successful login individual token\n",
    "        return True\n",
    "    \n",
    "    else:\n",
    "        ## TODO: print error in username, password or login information not available\n",
    "        print(\"Check username or password\")\n",
    "        return False\n"
   ]
  },
  {
   "cell_type": "markdown",
   "id": "4cdfe3bb",
   "metadata": {},
   "source": [
    "## Create new login"
   ]
  },
  {
   "cell_type": "code",
   "execution_count": 7,
   "id": "7719f1b6",
   "metadata": {},
   "outputs": [],
   "source": [
    "def create(legal_un, hash_pw):\n",
    "    \n",
    "    # Open database\n",
    "    login_db = open_db()\n",
    "    \n",
    "    # Check if username exist\n",
    "    if legal_un in login_db.keys:\n",
    "        print(\"Username already exist, please choose different username\")\n",
    "        return False\n",
    "    \n",
    "    else:\n",
    "        login_db['username'] = legal_un\n",
    "        login_db['hash'] = hash_pw\n",
    "        print(\"Account created\")\n",
    "        return True"
   ]
  },
  {
   "cell_type": "markdown",
   "id": "d4b8f0b9",
   "metadata": {},
   "source": [
    "# Login or create"
   ]
  },
  {
   "cell_type": "code",
   "execution_count": 8,
   "id": "b5f5f830",
   "metadata": {},
   "outputs": [],
   "source": [
    "def login_options(option):\n",
    "    legal_un, hash_pw = raw_input()\n",
    "    \n",
    "    if option == \"login\":\n",
    "        status = login(legal_un, hash_pw)\n",
    "        \n",
    "    if option == \"create\":\n",
    "        status = create(legal_un, hash_pw)\n",
    "        \n",
    "    return status"
   ]
  },
  {
   "cell_type": "markdown",
   "id": "ada5013d",
   "metadata": {},
   "source": [
    "# Main"
   ]
  },
  {
   "cell_type": "code",
   "execution_count": 9,
   "id": "46d4e06f",
   "metadata": {},
   "outputs": [],
   "source": [
    "def main():\n",
    "   \n",
    "    while True:\n",
    "        option = input(\"Please choose login or create: \")\n",
    "        if option == \"exit\":\n",
    "            print(\"Exiting program\")\n",
    "            break\n",
    "        elif option == \"create\" or option == \"login\":\n",
    "            status = login_options(option)\n",
    "            if status == True:\n",
    "                print(\"Login successful\")\n",
    "            else:\n",
    "                print(\"Error in login, please try again\")\n",
    "        else:\n",
    "            print(\"Please select correct option\")\n",
    "            \n"
   ]
  },
  {
   "cell_type": "code",
   "execution_count": 10,
   "id": "b88d33c5",
   "metadata": {},
   "outputs": [
    {
     "name": "stdout",
     "output_type": "stream",
     "text": [
      "Please choose login or create: login\n",
      "Username: admin\n",
      "Password: password\n",
      "Password must be mixed upper and lower characters\n",
      "Password: exit\n",
      "Password length must be more than 8 characters\n",
      "Password: exit\n",
      "Password length must be more than 8 characters\n",
      "Password: exit\n",
      "Password length must be more than 8 characters\n",
      "Three tries used. Please try again later\n"
     ]
    },
    {
     "ename": "ValueError",
     "evalue": "The truth value of a DataFrame is ambiguous. Use a.empty, a.bool(), a.item(), a.any() or a.all().",
     "output_type": "error",
     "traceback": [
      "\u001b[1;31m---------------------------------------------------------------------------\u001b[0m",
      "\u001b[1;31mValueError\u001b[0m                                Traceback (most recent call last)",
      "\u001b[1;32mC:\\Users\\NICKWO~1\\AppData\\Local\\Temp/ipykernel_1696/451043146.py\u001b[0m in \u001b[0;36m<module>\u001b[1;34m\u001b[0m\n\u001b[1;32m----> 1\u001b[1;33m \u001b[0mmain\u001b[0m\u001b[1;33m(\u001b[0m\u001b[1;33m)\u001b[0m\u001b[1;33m\u001b[0m\u001b[1;33m\u001b[0m\u001b[0m\n\u001b[0m",
      "\u001b[1;32mC:\\Users\\NICKWO~1\\AppData\\Local\\Temp/ipykernel_1696/1177845583.py\u001b[0m in \u001b[0;36mmain\u001b[1;34m()\u001b[0m\n\u001b[0;32m      7\u001b[0m             \u001b[1;32mbreak\u001b[0m\u001b[1;33m\u001b[0m\u001b[1;33m\u001b[0m\u001b[0m\n\u001b[0;32m      8\u001b[0m         \u001b[1;32melif\u001b[0m \u001b[0moption\u001b[0m \u001b[1;33m==\u001b[0m \u001b[1;34m\"create\"\u001b[0m \u001b[1;32mor\u001b[0m \u001b[0moption\u001b[0m \u001b[1;33m==\u001b[0m \u001b[1;34m\"login\"\u001b[0m\u001b[1;33m:\u001b[0m\u001b[1;33m\u001b[0m\u001b[1;33m\u001b[0m\u001b[0m\n\u001b[1;32m----> 9\u001b[1;33m             \u001b[0mstatus\u001b[0m \u001b[1;33m=\u001b[0m \u001b[0mlogin_options\u001b[0m\u001b[1;33m(\u001b[0m\u001b[0moption\u001b[0m\u001b[1;33m)\u001b[0m\u001b[1;33m\u001b[0m\u001b[1;33m\u001b[0m\u001b[0m\n\u001b[0m\u001b[0;32m     10\u001b[0m             \u001b[1;32mif\u001b[0m \u001b[0mstatus\u001b[0m \u001b[1;33m==\u001b[0m \u001b[1;32mTrue\u001b[0m\u001b[1;33m:\u001b[0m\u001b[1;33m\u001b[0m\u001b[1;33m\u001b[0m\u001b[0m\n\u001b[0;32m     11\u001b[0m                 \u001b[0mprint\u001b[0m\u001b[1;33m(\u001b[0m\u001b[1;34m\"Login successful\"\u001b[0m\u001b[1;33m)\u001b[0m\u001b[1;33m\u001b[0m\u001b[1;33m\u001b[0m\u001b[0m\n",
      "\u001b[1;32mC:\\Users\\NICKWO~1\\AppData\\Local\\Temp/ipykernel_1696/3113233191.py\u001b[0m in \u001b[0;36mlogin_options\u001b[1;34m(option)\u001b[0m\n\u001b[0;32m      3\u001b[0m \u001b[1;33m\u001b[0m\u001b[0m\n\u001b[0;32m      4\u001b[0m     \u001b[1;32mif\u001b[0m \u001b[0moption\u001b[0m \u001b[1;33m==\u001b[0m \u001b[1;34m\"login\"\u001b[0m\u001b[1;33m:\u001b[0m\u001b[1;33m\u001b[0m\u001b[1;33m\u001b[0m\u001b[0m\n\u001b[1;32m----> 5\u001b[1;33m         \u001b[0mstatus\u001b[0m \u001b[1;33m=\u001b[0m \u001b[0mlogin\u001b[0m\u001b[1;33m(\u001b[0m\u001b[0mlegal_un\u001b[0m\u001b[1;33m,\u001b[0m \u001b[0mhash_pw\u001b[0m\u001b[1;33m)\u001b[0m\u001b[1;33m\u001b[0m\u001b[1;33m\u001b[0m\u001b[0m\n\u001b[0m\u001b[0;32m      6\u001b[0m \u001b[1;33m\u001b[0m\u001b[0m\n\u001b[0;32m      7\u001b[0m     \u001b[1;32mif\u001b[0m \u001b[0moption\u001b[0m \u001b[1;33m==\u001b[0m \u001b[1;34m\"create\"\u001b[0m\u001b[1;33m:\u001b[0m\u001b[1;33m\u001b[0m\u001b[1;33m\u001b[0m\u001b[0m\n",
      "\u001b[1;32mC:\\Users\\NICKWO~1\\AppData\\Local\\Temp/ipykernel_1696/319357626.py\u001b[0m in \u001b[0;36mlogin\u001b[1;34m(legal_un, hash_pw)\u001b[0m\n\u001b[0;32m      5\u001b[0m \u001b[1;33m\u001b[0m\u001b[0m\n\u001b[0;32m      6\u001b[0m     \u001b[1;31m# Check if username and password hash exist in database\u001b[0m\u001b[1;33m\u001b[0m\u001b[1;33m\u001b[0m\u001b[1;33m\u001b[0m\u001b[0m\n\u001b[1;32m----> 7\u001b[1;33m     \u001b[1;32mif\u001b[0m \u001b[0mlogin_db\u001b[0m\u001b[1;33m.\u001b[0m\u001b[0mloc\u001b[0m\u001b[1;33m[\u001b[0m\u001b[0mlogin_db\u001b[0m\u001b[1;33m[\u001b[0m\u001b[1;34m'username'\u001b[0m\u001b[1;33m]\u001b[0m \u001b[1;33m==\u001b[0m \u001b[0mlegal_un\u001b[0m\u001b[1;33m]\u001b[0m \u001b[1;32mand\u001b[0m \u001b[0mlogin_db\u001b[0m\u001b[1;33m.\u001b[0m\u001b[0mloc\u001b[0m\u001b[1;33m[\u001b[0m\u001b[0mlogin_db\u001b[0m\u001b[1;33m[\u001b[0m\u001b[1;34m'hash'\u001b[0m\u001b[1;33m]\u001b[0m \u001b[1;33m==\u001b[0m \u001b[0mhash_pw\u001b[0m\u001b[1;33m]\u001b[0m\u001b[1;33m:\u001b[0m\u001b[1;33m\u001b[0m\u001b[1;33m\u001b[0m\u001b[0m\n\u001b[0m\u001b[0;32m      8\u001b[0m         \u001b[1;31m## TODO: return successful login individual token\u001b[0m\u001b[1;33m\u001b[0m\u001b[1;33m\u001b[0m\u001b[1;33m\u001b[0m\u001b[0m\n\u001b[0;32m      9\u001b[0m         \u001b[1;32mreturn\u001b[0m \u001b[1;32mTrue\u001b[0m\u001b[1;33m\u001b[0m\u001b[1;33m\u001b[0m\u001b[0m\n",
      "\u001b[1;32mD:\\Anaconda\\envs\\tabseries\\lib\\site-packages\\pandas\\core\\generic.py\u001b[0m in \u001b[0;36m__nonzero__\u001b[1;34m(self)\u001b[0m\n\u001b[0;32m   1536\u001b[0m     \u001b[1;32mdef\u001b[0m \u001b[0m__nonzero__\u001b[0m\u001b[1;33m(\u001b[0m\u001b[0mself\u001b[0m\u001b[1;33m)\u001b[0m\u001b[1;33m:\u001b[0m\u001b[1;33m\u001b[0m\u001b[1;33m\u001b[0m\u001b[0m\n\u001b[0;32m   1537\u001b[0m         raise ValueError(\n\u001b[1;32m-> 1538\u001b[1;33m             \u001b[1;34mf\"The truth value of a {type(self).__name__} is ambiguous. \"\u001b[0m\u001b[1;33m\u001b[0m\u001b[1;33m\u001b[0m\u001b[0m\n\u001b[0m\u001b[0;32m   1539\u001b[0m             \u001b[1;34m\"Use a.empty, a.bool(), a.item(), a.any() or a.all().\"\u001b[0m\u001b[1;33m\u001b[0m\u001b[1;33m\u001b[0m\u001b[0m\n\u001b[0;32m   1540\u001b[0m         )\n",
      "\u001b[1;31mValueError\u001b[0m: The truth value of a DataFrame is ambiguous. Use a.empty, a.bool(), a.item(), a.any() or a.all()."
     ]
    }
   ],
   "source": [
    "main()"
   ]
  },
  {
   "cell_type": "code",
   "execution_count": null,
   "id": "a8c3ea2a",
   "metadata": {},
   "outputs": [],
   "source": []
  }
 ],
 "metadata": {
  "kernelspec": {
   "display_name": "Python 3 (ipykernel)",
   "language": "python",
   "name": "python3"
  },
  "language_info": {
   "codemirror_mode": {
    "name": "ipython",
    "version": 3
   },
   "file_extension": ".py",
   "mimetype": "text/x-python",
   "name": "python",
   "nbconvert_exporter": "python",
   "pygments_lexer": "ipython3",
   "version": "3.7.11"
  }
 },
 "nbformat": 4,
 "nbformat_minor": 5
}
