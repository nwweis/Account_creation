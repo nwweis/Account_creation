{
 "cells": [
  {
   "cell_type": "markdown",
   "id": "fd95d284",
   "metadata": {},
   "source": [
    "# Import Libraries"
   ]
  },
  {
   "cell_type": "code",
   "execution_count": null,
   "id": "da5f8eb9",
   "metadata": {},
   "outputs": [],
   "source": [
    "import sys\n",
    "import os\n",
    "import re\n",
    "import hashlib\n",
    "import sqlite3"
   ]
  },
  {
   "cell_type": "markdown",
   "id": "463e5dd8",
   "metadata": {},
   "source": [
    "# SQL Database"
   ]
  },
  {
   "cell_type": "code",
   "execution_count": null,
   "id": "144136be",
   "metadata": {},
   "outputs": [],
   "source": [
    "# Create database \n",
    "def create_db(db_path): # Called from Main()\n",
    "    con = sqlite3.connect(db_path)\n",
    "    cur = con.cursor()\n",
    "    cur.execute('''CREATE TABLE login\n",
    "                   (username text, password text)''') # Create table 'login' with columns username and password\n",
    "    con.commit()\n",
    "    con.close()\n",
    "    \n",
    "def check_un(un): # Called from raw_input()\n",
    "    exist = False # Variable default to false indicating account doesnt exist\n",
    "    con = sqlite3.connect('login_db.db')\n",
    "    cur = con.cursor()\n",
    "    cur.execute('''SELECT * FROM login where username=:un''', {\"un\": un}) # Select row based on username input\n",
    "    un_db = cur.fetchall()\n",
    "    if len(un_db) != 0: # If table not empty, username exist\n",
    "        exist = True\n",
    "    con.commit()\n",
    "    con.close()\n",
    "    return exist\n",
    "    \n",
    "def create_login(un, hash_pw): # Called from account()\n",
    "    con = sqlite3.connect('login_db.db')\n",
    "    cur = con.cursor()\n",
    "    cur.execute('''INSERT INTO login VALUES (?, ?)''', (un, hash_pw))# Insert new username and hashed password row to login table\n",
    "    con.commit()\n",
    "    con.close()\n",
    "    print(\"Account created\")\n",
    "\n",
    "        \n",
    "def search_login(un, hash_pw): # Called from account()\n",
    "    login = False # Variable to indicated login status\n",
    "    con = sqlite3.connect('login_db.db')\n",
    "    cur = con.cursor()\n",
    "    cur.execute('''SELECT * FROM login where username=:un''', {\"un\": un}) # Select row based on username input\n",
    "    login = cur.fetchall()\n",
    "    for _ in login:\n",
    "        if _[1] == hash_pw: # Match user password input with database password\n",
    "            login = True\n",
    "    con.commit()\n",
    "    con.close()    \n",
    "    if login:\n",
    "        print(\"Login successful\")\n",
    "    else:\n",
    "        print(\"Check username or password\")\n",
    "    return login # TODO: return login token if required\n",
    "\n",
    "def delete_account(un, hash_pw):\n",
    "    status = search_login(un, hash_pw)\n",
    "    \n",
    "    if status:\n",
    "        confirm_del = str(input(\"Please confirm by account deletion by entering password: \"))\n",
    "        confirm_hash = hash_legal(confirm_del)\n",
    "        confirm = False\n",
    "        \n",
    "        con = sqlite3.connect('login_db.db')\n",
    "        cur = con.cursor()\n",
    "        cur.execute('''SELECT * FROM login where username=:un''', {\"un\": un}) # Select row based on username input\n",
    "        login = cur.fetchall()\n",
    "        for _ in login:\n",
    "            if _[1] == confirm_hash: # Match user password input with database password\n",
    "                confirm = True\n",
    "        \n",
    "        if confirm:\n",
    "            cur.execute('''DELETE FROM login where username=:un''', {\"un\": un})\n",
    "\n",
    "        con.commit()\n",
    "        con.close()\n",
    "        \n",
    "        return(\"Account deleted\")\n",
    "\n",
    "    else:\n",
    "        return \"Password does not match, account not removed.\"\n",
    "                \n"
   ]
  },
  {
   "cell_type": "markdown",
   "id": "f1355300",
   "metadata": {},
   "source": [
    "# User input"
   ]
  },
  {
   "cell_type": "code",
   "execution_count": null,
   "id": "5e9f8b45",
   "metadata": {},
   "outputs": [],
   "source": [
    "# Ask for user input\n",
    "def raw_input(option): # Called from account()\n",
    "    while True:\n",
    "        raw_un = str(input(\"Please enter username: \")) # User input\n",
    "        if check_un(raw_un): # If account exist in database\n",
    "            if option == 'create':\n",
    "                print(\"Please enter a different username.\")\n",
    "            else:\n",
    "                break\n",
    "        else: # If account does notexist in database\n",
    "            if option == 'login':\n",
    "                print(\"Account doesnt exist.\")\n",
    "            else:\n",
    "                break\n",
    "    while True:\n",
    "        raw_pw = str(input(\"Please enter password: \")) # User input\n",
    "        if check_illegal(raw_pw) == False: # Check if password matches requirements\n",
    "            break   \n",
    "    hash_pw = hash_legal(raw_pw) # Hash legal password\n",
    "    return raw_un, hash_pw\n",
    "\n",
    "# Sanitisation\n",
    "def check_illegal(raw_pw): # Called from and returned to raw_input()\n",
    "    # Check for empty string\n",
    "    if not raw_pw:\n",
    "        print(\"Password field cannot be empty\")\n",
    "        return True\n",
    "    # Check password length\n",
    "    elif len(raw_pw) <= 7:\n",
    "        print(\"Password length must be more than 8 characters\")\n",
    "        return True\n",
    "    # Checks for at least 1 number, 1 alpha(both upper and lower)\n",
    "    elif re.search('^(?=.*?\\d)(?=.*?[a-z])(?=.*?[A-Z])(?=.*?[^A-Za-z\\s0-9])', raw_pw) is None:\n",
    "        print(\"Password must contain at least 1 uppercase and lowercase letter, number and special character.\")\n",
    "        return True\n",
    "    # Input is legal\n",
    "    else:    \n",
    "        return False\n",
    "\n",
    "# Hashing passwords using SHA256\n",
    "def hash_legal(legal_input): # Called from raw_input()\n",
    "    return hashlib.sha256(legal_input.encode('utf-8')).hexdigest()"
   ]
  },
  {
   "cell_type": "markdown",
   "id": "d2c3d0bf",
   "metadata": {},
   "source": [
    "# Create or Login to Account"
   ]
  },
  {
   "cell_type": "code",
   "execution_count": null,
   "id": "4fc5cf61",
   "metadata": {},
   "outputs": [],
   "source": [
    "def account(option): # Called from Main()\n",
    "    un, hash_pw = raw_input(option)\n",
    "    if option == 'login':\n",
    "        search_login(un, hash_pw)\n",
    "    elif option == 'create':\n",
    "        create_login(un, hash_pw)\n",
    "    elif option == 'delete':\n",
    "        print(delete_account(un, hash_pw))"
   ]
  },
  {
   "cell_type": "markdown",
   "id": "586690fe",
   "metadata": {},
   "source": [
    "# Main"
   ]
  },
  {
   "cell_type": "code",
   "execution_count": null,
   "id": "0296cdc9",
   "metadata": {},
   "outputs": [],
   "source": [
    "def main():\n",
    "    # Check if database exist, otherwise create database.\n",
    "    db_path = 'login_db.db'\n",
    "    if not os.path.exists(db_path):\n",
    "        create_db(db_path)\n",
    "    \n",
    "    # Main Function\n",
    "    while True:\n",
    "        option = (input(\"Please select from 'create', 'login', 'delete' or 'exit': \")).lower().strip()\n",
    "        if option == \"exit\":\n",
    "            print(\"Exiting program\")\n",
    "            break\n",
    "        elif option == 'create': \n",
    "            account('create')\n",
    "            break\n",
    "        elif option == 'login':\n",
    "            account('login')\n",
    "            break\n",
    "        elif option == 'delete':\n",
    "            account('delete')\n",
    "            break\n",
    "        else:\n",
    "            print(\"Please select correct option\")\n",
    "            \n",
    "if __name__ == \"__main__\":\n",
    "    main()\n",
    "    print(\"Program ran to completion\")\n",
    "    "
   ]
  }
 ],
 "metadata": {
  "kernelspec": {
   "display_name": "Python 3 (ipykernel)",
   "language": "python",
   "name": "python3"
  },
  "language_info": {
   "codemirror_mode": {
    "name": "ipython",
    "version": 3
   },
   "file_extension": ".py",
   "mimetype": "text/x-python",
   "name": "python",
   "nbconvert_exporter": "python",
   "pygments_lexer": "ipython3",
   "version": "3.7.11"
  }
 },
 "nbformat": 4,
 "nbformat_minor": 5
}
